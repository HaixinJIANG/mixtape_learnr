{
 "cells": [
  {
   "cell_type": "markdown",
   "metadata": {},
   "source": [
    "## Welcome\n",
    "\n",
    "This is material for the **Potential Outcomes** chapter in Scott Cunningham's book, [Causal Inference: The Mixtape.](https://mixtape.scunning.com/)"
   ]
  },
  {
   "cell_type": "code",
   "execution_count": 1,
   "metadata": {},
   "outputs": [],
   "source": [
    "import numpy as np\n",
    "import pandas as pd\n",
    "import statsmodels.api as sm\n",
    "import statsmodels.formula.api as smf\n",
    "\n",
    "import plotnine as p"
   ]
  },
  {
   "cell_type": "code",
   "execution_count": 6,
   "metadata": {},
   "outputs": [],
   "source": [
    "# read data\n",
    "def read_data(file):\n",
    "    return pd.read_stata(\"https://raw.github.com/scunning1975/mixtape/master/\" + file)"
   ]
  },
  {
   "cell_type": "code",
   "execution_count": 7,
   "metadata": {},
   "outputs": [
    {
     "data": {
      "text/html": [
       "<table class=\"simpletable\">\n",
       "<caption>OLS Regression Results</caption>\n",
       "<tr>\n",
       "  <th>Dep. Variable:</th>          <td>paup</td>       <th>  R-squared:         </th> <td>   0.697</td>\n",
       "</tr>\n",
       "<tr>\n",
       "  <th>Model:</th>                   <td>OLS</td>       <th>  Adj. R-squared:    </th> <td>   0.665</td>\n",
       "</tr>\n",
       "<tr>\n",
       "  <th>Method:</th>             <td>Least Squares</td>  <th>  F-statistic:       </th> <td>   21.49</td>\n",
       "</tr>\n",
       "<tr>\n",
       "  <th>Date:</th>             <td>Fri, 12 Feb 2021</td> <th>  Prob (F-statistic):</th> <td>2.00e-07</td>\n",
       "</tr>\n",
       "<tr>\n",
       "  <th>Time:</th>                 <td>06:56:07</td>     <th>  Log-Likelihood:    </th> <td> -115.47</td>\n",
       "</tr>\n",
       "<tr>\n",
       "  <th>No. Observations:</th>      <td>    32</td>      <th>  AIC:               </th> <td>   238.9</td>\n",
       "</tr>\n",
       "<tr>\n",
       "  <th>Df Residuals:</th>          <td>    28</td>      <th>  BIC:               </th> <td>   244.8</td>\n",
       "</tr>\n",
       "<tr>\n",
       "  <th>Df Model:</th>              <td>     3</td>      <th>                     </th>     <td> </td>   \n",
       "</tr>\n",
       "<tr>\n",
       "  <th>Covariance Type:</th>      <td>nonrobust</td>    <th>                     </th>     <td> </td>   \n",
       "</tr>\n",
       "</table>\n",
       "<table class=\"simpletable\">\n",
       "<tr>\n",
       "      <td></td>         <th>coef</th>     <th>std err</th>      <th>t</th>      <th>P>|t|</th>  <th>[0.025</th>    <th>0.975]</th>  \n",
       "</tr>\n",
       "<tr>\n",
       "  <th>Intercept</th> <td>   63.1877</td> <td>   27.144</td> <td>    2.328</td> <td> 0.027</td> <td>    7.586</td> <td>  118.789</td>\n",
       "</tr>\n",
       "<tr>\n",
       "  <th>outrelief</th> <td>    0.7521</td> <td>    0.135</td> <td>    5.572</td> <td> 0.000</td> <td>    0.476</td> <td>    1.029</td>\n",
       "</tr>\n",
       "<tr>\n",
       "  <th>old</th>       <td>    0.0556</td> <td>    0.223</td> <td>    0.249</td> <td> 0.805</td> <td>   -0.402</td> <td>    0.513</td>\n",
       "</tr>\n",
       "<tr>\n",
       "  <th>pop</th>       <td>   -0.3107</td> <td>    0.067</td> <td>   -4.648</td> <td> 0.000</td> <td>   -0.448</td> <td>   -0.174</td>\n",
       "</tr>\n",
       "</table>\n",
       "<table class=\"simpletable\">\n",
       "<tr>\n",
       "  <th>Omnibus:</th>       <td> 7.594</td> <th>  Durbin-Watson:     </th> <td>   2.344</td>\n",
       "</tr>\n",
       "<tr>\n",
       "  <th>Prob(Omnibus):</th> <td> 0.022</td> <th>  Jarque-Bera (JB):  </th> <td>   5.979</td>\n",
       "</tr>\n",
       "<tr>\n",
       "  <th>Skew:</th>          <td> 0.961</td> <th>  Prob(JB):          </th> <td>  0.0503</td>\n",
       "</tr>\n",
       "<tr>\n",
       "  <th>Kurtosis:</th>      <td> 3.888</td> <th>  Cond. No.          </th> <td>2.56e+03</td>\n",
       "</tr>\n",
       "</table><br/><br/>Notes:<br/>[1] Standard Errors assume that the covariance matrix of the errors is correctly specified.<br/>[2] The condition number is large, 2.56e+03. This might indicate that there are<br/>strong multicollinearity or other numerical problems."
      ],
      "text/plain": [
       "<class 'statsmodels.iolib.summary.Summary'>\n",
       "\"\"\"\n",
       "                            OLS Regression Results                            \n",
       "==============================================================================\n",
       "Dep. Variable:                   paup   R-squared:                       0.697\n",
       "Model:                            OLS   Adj. R-squared:                  0.665\n",
       "Method:                 Least Squares   F-statistic:                     21.49\n",
       "Date:                Fri, 12 Feb 2021   Prob (F-statistic):           2.00e-07\n",
       "Time:                        06:56:07   Log-Likelihood:                -115.47\n",
       "No. Observations:                  32   AIC:                             238.9\n",
       "Df Residuals:                      28   BIC:                             244.8\n",
       "Df Model:                           3                                         \n",
       "Covariance Type:            nonrobust                                         \n",
       "==============================================================================\n",
       "                 coef    std err          t      P>|t|      [0.025      0.975]\n",
       "------------------------------------------------------------------------------\n",
       "Intercept     63.1877     27.144      2.328      0.027       7.586     118.789\n",
       "outrelief      0.7521      0.135      5.572      0.000       0.476       1.029\n",
       "old            0.0556      0.223      0.249      0.805      -0.402       0.513\n",
       "pop           -0.3107      0.067     -4.648      0.000      -0.448      -0.174\n",
       "==============================================================================\n",
       "Omnibus:                        7.594   Durbin-Watson:                   2.344\n",
       "Prob(Omnibus):                  0.022   Jarque-Bera (JB):                5.979\n",
       "Skew:                           0.961   Prob(JB):                       0.0503\n",
       "Kurtosis:                       3.888   Cond. No.                     2.56e+03\n",
       "==============================================================================\n",
       "\n",
       "Notes:\n",
       "[1] Standard Errors assume that the covariance matrix of the errors is correctly specified.\n",
       "[2] The condition number is large, 2.56e+03. This might indicate that there are\n",
       "strong multicollinearity or other numerical problems.\n",
       "\"\"\""
      ]
     },
     "execution_count": 7,
     "metadata": {},
     "output_type": "execute_result"
    }
   ],
   "source": [
    "yule = read_data('yule.dta')\n",
    "\n",
    "res = sm.OLS.from_formula('paup ~ outrelief + old + pop', yule).fit()\n",
    "res.summary()"
   ]
  },
  {
   "cell_type": "markdown",
   "metadata": {},
   "source": [
    "#### Questions\n",
    "\n",
    "- How do you interpret the coefficient on `outrelief` given it's a percentage change regressed onto a percentage?\n",
    "- Draw a DAG representing what must be true in order for Yule's estimate of `outrelief` on pauper growth rates to be causal?  \n",
    "- Yule concluded that public assistance (`outrelief`) increased pauper growth rates. How convinced are you that all backdoor paths between pauperism and out-relief are blocked once you control for two covariates in a cross-sectional database for all of England? Could there be unobserved determinants of both poverty and public assistance?\n",
    "- If public assistance causes pauper growth rates, but pauper growth rates also causes public assistance, then why won't Yule's regression capture a causal effect of `outrelief` on pauper growth rates?  Explain the concept of reverse causality with Yule's data."
   ]
  },
  {
   "cell_type": "code",
   "execution_count": 8,
   "metadata": {},
   "outputs": [],
   "source": [
    "## Independence Assumption"
   ]
  },
  {
   "cell_type": "code",
   "execution_count": 13,
   "metadata": {},
   "outputs": [
    {
     "data": {
      "text/plain": [
       "nan"
      ]
     },
     "execution_count": 13,
     "metadata": {},
     "output_type": "execute_result"
    }
   ],
   "source": [
    "def gap():\n",
    "    sdo = pd.DataFrame({\n",
    "        'y1': (7, 5, 5, 7, 4, 10, 1, 5, 3, 9),\n",
    "        'y0' : (1, 6, 1, 8, 2, 1, 10, 6, 7, 8),\n",
    "        'random' : np.random.normal(size=10)})\n",
    "    sdo.sort_values('random', inplace=True)\n",
    "    sdo['d'] = np.tile(range(5), 2)\n",
    "    sdo['y'] = sdo['d']*sdo['y1'] + (1-sdo['d'])*sdo['y0']\n",
    "\n",
    "    sdo = np.mean(sdo[1:5] - sdo[6:10])\n",
    "\n",
    "    return sdo\n",
    "\n",
    "\n",
    "sim = [gap() for x in range(1000)]\n",
    "np.mean(sim)"
   ]
  },
  {
   "cell_type": "code",
   "execution_count": null,
   "metadata": {},
   "outputs": [],
   "source": []
  }
 ],
 "metadata": {
  "kernelspec": {
   "display_name": "Python 3",
   "language": "python",
   "name": "python3"
  },
  "language_info": {
   "codemirror_mode": {
    "name": "ipython",
    "version": 3
   },
   "file_extension": ".py",
   "mimetype": "text/x-python",
   "name": "python",
   "nbconvert_exporter": "python",
   "pygments_lexer": "ipython3",
   "version": "3.8.5"
  }
 },
 "nbformat": 4,
 "nbformat_minor": 4
}
